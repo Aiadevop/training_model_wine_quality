{
  "nbformat": 4,
  "nbformat_minor": 0,
  "metadata": {
    "colab": {
      "provenance": [],
      "include_colab_link": true
    },
    "kernelspec": {
      "name": "python3",
      "display_name": "Python 3"
    },
    "language_info": {
      "name": "python"
    }
  },
  "cells": [
    {
      "cell_type": "markdown",
      "metadata": {
        "id": "view-in-github",
        "colab_type": "text"
      },
      "source": [
        "<a href=\"https://colab.research.google.com/github/Aiadevop/training_model_wine_quality/blob/main/DS_NL_Clasificaci%C3%B3n_MODELO_XGBOOST_Predicci%C3%B3n_calidad_del_vino.ipynb\" target=\"_parent\"><img src=\"https://colab.research.google.com/assets/colab-badge.svg\" alt=\"Open In Colab\"/></a>"
      ]
    },
    {
      "cell_type": "code",
      "source": [
        "import pandas as pd\n",
        "import kagglehub\n",
        "import matplotlib.pyplot as plt\n",
        "import seaborn as sns\n",
        "url=\"https://raw.githubusercontent.com/Aiadevop/training_model_wine_quality/refs/heads/main/data/df_cl_final.csv\"\n",
        "df_cl = pd.read_csv(url)\n",
        "# Divido los datos para test y entrenamiento.\n",
        "from sklearn.model_selection import train_test_split\n",
        "\n",
        "# Dividir el DataFrame completo. Test_size 20,80 y random_state es la semilla\n",
        "df_train, df_test = train_test_split(\n",
        "    df_cl, test_size=0.2, random_state=42, stratify=df_cl['quality']\n",
        ")\n",
        "\n",
        "# Luego extraer X e y de cada DataFrame\n",
        "X_train = df_train.drop('quality', axis=1)\n",
        "y_train = df_train['quality']\n",
        "\n",
        "X_test = df_test.drop('quality', axis=1)\n",
        "y_test = df_test['quality']"
      ],
      "metadata": {
        "id": "EpuEGirq40KW"
      },
      "execution_count": 1,
      "outputs": []
    },
    {
      "cell_type": "code",
      "source": [
        "from xgboost import XGBClassifier\n",
        "from lightgbm import LGBMClassifier\n",
        "from sklearn.metrics import accuracy_score, roc_auc_score\n",
        "\n",
        "# Crear modelos con configuración básica\n",
        "xgb = XGBClassifier(eval_metric='logloss', random_state=42)\n",
        "\n",
        "# Entrenar y predecir - XGBoost\n",
        "xgb.fit(X_train, y_train)\n",
        "y_pred_xgb = xgb.predict(X_test)\n",
        "y_proba_xgb = xgb.predict_proba(X_test)[:,1]\n",
        "\n",
        "# Evaluar\n",
        "acc_xgb = accuracy_score(y_test, y_pred_xgb)\n",
        "roc_xgb = roc_auc_score(y_test, y_proba_xgb)\n",
        "\n",
        "\n",
        "# Imprimir resultados\n",
        "print(\"📈 RESULTADOS BOOSTING 📈\\n\")\n",
        "print(f\"XGBoost      - Accuracy: {acc_xgb:.3f}, ROC-AUC: {roc_xgb:.3f}\")\n"
      ],
      "metadata": {
        "colab": {
          "base_uri": "https://localhost:8080/"
        },
        "id": "fTd0Tx85GF23",
        "outputId": "68612e01-0bb6-40d0-8495-82c43a4bb45a"
      },
      "execution_count": 2,
      "outputs": [
        {
          "output_type": "stream",
          "name": "stdout",
          "text": [
            "📈 RESULTADOS BOOSTING 📈\n",
            "\n",
            "XGBoost      - Accuracy: 0.825, ROC-AUC: 0.896\n"
          ]
        }
      ]
    },
    {
      "cell_type": "code",
      "source": [
        "from xgboost import XGBClassifier\n",
        "from sklearn.model_selection import RandomizedSearchCV\n",
        "from sklearn.metrics import accuracy_score, roc_auc_score\n",
        "\n",
        "# Modelo base\n",
        "xgb = XGBClassifier(eval_metric='logloss',  random_state=42)\n",
        "\n",
        "# Espacio de búsqueda\n",
        "param_dist = {\n",
        "    'n_estimators': [100, 200, 300, 500],\n",
        "    'max_depth': [3, 5, 7, 10, 15],\n",
        "    'learning_rate': [0.01, 0.05, 0.1, 0.2],\n",
        "    'subsample': [0.6, 0.8, 1.0],\n",
        "    'colsample_bytree': [0.6, 0.8, 1.0],\n",
        "    'gamma': [0, 0.1, 0.3, 0.5],\n",
        "    'reg_alpha': [0, 0.01, 0.1],\n",
        "    'reg_lambda': [1, 1.5, 2.0]\n",
        "}\n",
        "\n",
        "# Búsqueda aleatoria\n",
        "random_search_xgb = RandomizedSearchCV(\n",
        "    xgb,\n",
        "    param_distributions=param_dist,\n",
        "    n_iter=30,\n",
        "    scoring='roc_auc',\n",
        "    cv=5,\n",
        "    verbose=1,\n",
        "    n_jobs=-1,\n",
        "    random_state=42\n",
        ")\n",
        "\n",
        "# Entrenar\n",
        "random_search_xgb.fit(X_train, y_train)\n",
        "\n",
        "# Mejor modelo y evaluación\n",
        "best_xgb = random_search_xgb.best_estimator_\n",
        "y_pred_xgb = best_xgb.predict(X_test)\n",
        "y_proba_xgb = best_xgb.predict_proba(X_test)[:, 1]\n",
        "\n",
        "# Métricas\n",
        "acc_xgb = accuracy_score(y_test, y_pred_xgb)\n",
        "roc_xgb = roc_auc_score(y_test, y_proba_xgb)\n",
        "\n",
        "# Resultados\n",
        "print(\"\\n🔧 Mejor configuración de XGBoost:\")\n",
        "print(random_search_xgb.best_params_)\n",
        "\n",
        "print(f\"\\n✅ Resultados XGBoost optimizado:\")\n",
        "print(f\"Accuracy: {acc_xgb:.3f}\")\n",
        "print(f\"ROC-AUC:  {roc_xgb:.3f}\")\n"
      ],
      "metadata": {
        "colab": {
          "base_uri": "https://localhost:8080/"
        },
        "id": "hiHC5cKyyBaG",
        "outputId": "a9a573d3-5229-4fcb-e42a-28145b668f99"
      },
      "execution_count": 3,
      "outputs": [
        {
          "output_type": "stream",
          "name": "stdout",
          "text": [
            "Fitting 5 folds for each of 30 candidates, totalling 150 fits\n",
            "\n",
            "🔧 Mejor configuración de XGBoost:\n",
            "{'subsample': 1.0, 'reg_lambda': 1.5, 'reg_alpha': 0.1, 'n_estimators': 500, 'max_depth': 7, 'learning_rate': 0.05, 'gamma': 0, 'colsample_bytree': 0.6}\n",
            "\n",
            "✅ Resultados XGBoost optimizado:\n",
            "Accuracy: 0.831\n",
            "ROC-AUC:  0.895\n"
          ]
        }
      ]
    },
    {
      "cell_type": "code",
      "source": [
        "# Probar métodos de ensamblaje para ver si mejora\n",
        "from sklearn.ensemble import VotingClassifier, StackingClassifier, BaggingClassifier\n",
        "from sklearn.linear_model import LogisticRegression\n",
        "from sklearn.ensemble import RandomForestClassifier\n",
        "from xgboost import XGBClassifier\n",
        "from sklearn.metrics import accuracy_score, roc_auc_score\n",
        "from sklearn.svm import SVC\n",
        "\n",
        "# 🧠 Modelos base\n",
        "log_clf = LogisticRegression(max_iter=1000, random_state=42)\n",
        "rf_clf = RandomForestClassifier(n_estimators=300, random_state=42)\n",
        "xgb_clf = XGBClassifier(\n",
        "    subsample=1.0,\n",
        "    reg_lambda=1.5,\n",
        "    reg_alpha=0.01,\n",
        "    n_estimators=500,\n",
        "    max_depth=10,\n",
        "    learning_rate=0.1,\n",
        "    gamma=0.1,\n",
        "    colsample_bytree=1.0,\n",
        "    random_state=42,\n",
        "    eval_metric='logloss'\n",
        ")\n",
        "\n",
        "### 1️⃣ Voting Classifier (Soft)\n",
        "voting_clf = VotingClassifier(\n",
        "    estimators=[('lr', log_clf), ('rf', rf_clf), ('xgb', xgb_clf)],\n",
        "    voting='soft'\n",
        ")\n",
        "voting_clf.fit(X_train, y_train)\n",
        "y_pred_voting = voting_clf.predict(X_test)\n",
        "y_proba_voting = voting_clf.predict_proba(X_test)[:, 1]\n",
        "acc_voting = accuracy_score(y_test, y_pred_voting)\n",
        "roc_voting = roc_auc_score(y_test, y_proba_voting)\n",
        "\n",
        "### 2️⃣ Stacking Classifier\n",
        "stack_clf = StackingClassifier(\n",
        "    estimators=[('lr', log_clf), ('rf', rf_clf), ('xgb', xgb_clf)],\n",
        "    final_estimator=LogisticRegression(max_iter=1000),\n",
        "    cv=5\n",
        ")\n",
        "stack_clf.fit(X_train, y_train)\n",
        "y_pred_stack = stack_clf.predict(X_test)\n",
        "y_proba_stack = stack_clf.predict_proba(X_test)[:, 1]\n",
        "acc_stack = accuracy_score(y_test, y_pred_stack)\n",
        "roc_stack = roc_auc_score(y_test, y_proba_stack)\n",
        "\n",
        "### 3️⃣ Bagging Classifier (con LogisticRegression como ejemplo)\n",
        "bagging_clf = BaggingClassifier(\n",
        "    estimator=LogisticRegression(max_iter=1000),\n",
        "    n_estimators=50,\n",
        "    random_state=42\n",
        ")\n",
        "bagging_clf.fit(X_train, y_train)\n",
        "y_pred_bag = bagging_clf.predict(X_test)\n",
        "y_proba_bag = bagging_clf.predict_proba(X_test)[:, 1]\n",
        "acc_bag = accuracy_score(y_test, y_pred_bag)\n",
        "roc_bag = roc_auc_score(y_test, y_proba_bag)\n",
        "\n",
        "# 🧾 Mostrar resultados\n",
        "print(\"\\n📊 RESULTADOS DE LOS MÉTODOS DE ENSAMBLE 📊\")\n",
        "print(f\"VotingClassifier - Accuracy: {acc_voting:.3f}, ROC-AUC: {roc_voting:.3f}\")\n",
        "print(f\"StackingClassifier - Accuracy: {acc_stack:.3f}, ROC-AUC: {roc_stack:.3f}\")\n",
        "print(f\"BaggingClassifier - Accuracy: {acc_bag:.3f}, ROC-AUC: {roc_bag:.3f}\")"
      ],
      "metadata": {
        "colab": {
          "base_uri": "https://localhost:8080/"
        },
        "id": "sCc_yXq34SCv",
        "outputId": "1e3a4526-d94e-4b3f-d83d-fb25a2d02589"
      },
      "execution_count": 4,
      "outputs": [
        {
          "output_type": "stream",
          "name": "stdout",
          "text": [
            "\n",
            "📊 RESULTADOS DE LOS MÉTODOS DE ENSAMBLE 📊\n",
            "VotingClassifier - Accuracy: 0.809, ROC-AUC: 0.900\n",
            "StackingClassifier - Accuracy: 0.806, ROC-AUC: 0.904\n",
            "BaggingClassifier - Accuracy: 0.738, ROC-AUC: 0.824\n"
          ]
        }
      ]
    },
    {
      "cell_type": "code",
      "source": [
        "# No mejora me quedo con XGBoost optimizado"
      ],
      "metadata": {
        "id": "pJ6ghiIr4ooI"
      },
      "execution_count": 5,
      "outputs": []
    },
    {
      "cell_type": "code",
      "source": [
        "import joblib\n",
        "\n",
        "# Guardar el mejor modelo como archivo .pkl\n",
        "joblib.dump(best_xgb, 'xgb_model_optimizado.pkl')\n"
      ],
      "metadata": {
        "colab": {
          "base_uri": "https://localhost:8080/"
        },
        "id": "GH1SYXpxbHva",
        "outputId": "cb5a956d-d53e-47dc-d9ca-2650eb4b1c08"
      },
      "execution_count": 6,
      "outputs": [
        {
          "output_type": "execute_result",
          "data": {
            "text/plain": [
              "['xgb_model_optimizado.pkl']"
            ]
          },
          "metadata": {},
          "execution_count": 6
        }
      ]
    },
    {
      "cell_type": "code",
      "source": [
        "from google.colab import files\n",
        "\n",
        "# Descargar el modelo guardado a tu PC\n",
        "# files.download('xgb_model_optimizado.pkl')\n"
      ],
      "metadata": {
        "colab": {
          "base_uri": "https://localhost:8080/",
          "height": 17
        },
        "id": "JnBMJdkjbsO9",
        "outputId": "2492a615-fa88-4d3a-f5c4-92afb3cb67fc"
      },
      "execution_count": 7,
      "outputs": [
        {
          "output_type": "display_data",
          "data": {
            "text/plain": [
              "<IPython.core.display.Javascript object>"
            ],
            "application/javascript": [
              "\n",
              "    async function download(id, filename, size) {\n",
              "      if (!google.colab.kernel.accessAllowed) {\n",
              "        return;\n",
              "      }\n",
              "      const div = document.createElement('div');\n",
              "      const label = document.createElement('label');\n",
              "      label.textContent = `Downloading \"${filename}\": `;\n",
              "      div.appendChild(label);\n",
              "      const progress = document.createElement('progress');\n",
              "      progress.max = size;\n",
              "      div.appendChild(progress);\n",
              "      document.body.appendChild(div);\n",
              "\n",
              "      const buffers = [];\n",
              "      let downloaded = 0;\n",
              "\n",
              "      const channel = await google.colab.kernel.comms.open(id);\n",
              "      // Send a message to notify the kernel that we're ready.\n",
              "      channel.send({})\n",
              "\n",
              "      for await (const message of channel.messages) {\n",
              "        // Send a message to notify the kernel that we're ready.\n",
              "        channel.send({})\n",
              "        if (message.buffers) {\n",
              "          for (const buffer of message.buffers) {\n",
              "            buffers.push(buffer);\n",
              "            downloaded += buffer.byteLength;\n",
              "            progress.value = downloaded;\n",
              "          }\n",
              "        }\n",
              "      }\n",
              "      const blob = new Blob(buffers, {type: 'application/binary'});\n",
              "      const a = document.createElement('a');\n",
              "      a.href = window.URL.createObjectURL(blob);\n",
              "      a.download = filename;\n",
              "      div.appendChild(a);\n",
              "      a.click();\n",
              "      div.remove();\n",
              "    }\n",
              "  "
            ]
          },
          "metadata": {}
        },
        {
          "output_type": "display_data",
          "data": {
            "text/plain": [
              "<IPython.core.display.Javascript object>"
            ],
            "application/javascript": [
              "download(\"download_aff18feb-4518-4d70-bc23-fef9ff529914\", \"xgb_model_optimizado.pkl\", 1391308)"
            ]
          },
          "metadata": {}
        }
      ]
    }
  ]
}