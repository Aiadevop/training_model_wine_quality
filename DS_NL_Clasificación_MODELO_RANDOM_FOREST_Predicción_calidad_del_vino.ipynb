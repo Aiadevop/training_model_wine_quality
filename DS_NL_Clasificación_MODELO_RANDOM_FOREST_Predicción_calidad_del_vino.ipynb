{
  "nbformat": 4,
  "nbformat_minor": 0,
  "metadata": {
    "colab": {
      "provenance": [],
      "include_colab_link": true
    },
    "kernelspec": {
      "name": "python3",
      "display_name": "Python 3"
    },
    "language_info": {
      "name": "python"
    }
  },
  "cells": [
    {
      "cell_type": "markdown",
      "metadata": {
        "id": "view-in-github",
        "colab_type": "text"
      },
      "source": [
        "<a href=\"https://colab.research.google.com/github/Aiadevop/training_model_wine_quality/blob/main/DS_NL_Clasificaci%C3%B3n_MODELO_RANDOM_FOREST_Predicci%C3%B3n_calidad_del_vino.ipynb\" target=\"_parent\"><img src=\"https://colab.research.google.com/assets/colab-badge.svg\" alt=\"Open In Colab\"/></a>"
      ]
    },
    {
      "cell_type": "code",
      "source": [
        "import pandas as pd\n",
        "import kagglehub\n",
        "import matplotlib.pyplot as plt\n",
        "import seaborn as sns\n",
        "url=\"https://raw.githubusercontent.com/Aiadevop/training_model_wine_quality/refs/heads/main/data/df_cl_final.csv\"\n",
        "df_cl = pd.read_csv(url)\n",
        "# Divido los datos para test y entrenamiento.\n",
        "from sklearn.model_selection import train_test_split\n",
        "\n",
        "# Dividir el DataFrame completo. Test_size 20,80 y random_state es la semilla\n",
        "df_train, df_test = train_test_split(\n",
        "    df_cl, test_size=0.2, random_state=42, stratify=df_cl['quality']\n",
        ")\n",
        "\n",
        "# Luego extraer X e y de cada DataFrame\n",
        "X_train = df_train.drop('quality', axis=1)\n",
        "y_train = df_train['quality']\n",
        "\n",
        "X_test = df_test.drop('quality', axis=1)\n",
        "y_test = df_test['quality']"
      ],
      "metadata": {
        "id": "D64RSnhP-vMn"
      },
      "execution_count": 1,
      "outputs": []
    },
    {
      "cell_type": "code",
      "source": [
        "from sklearn.ensemble import RandomForestClassifier\n",
        "from sklearn.metrics import accuracy_score, roc_auc_score\n",
        "\n",
        "modelos = {\n",
        "    \"Random Forest\": RandomForestClassifier(random_state=42)\n",
        "}\n",
        "\n",
        "resultados = []\n",
        "\n",
        "for nombre, modelo in modelos.items():\n",
        "    modelo.fit(X_train, y_train)\n",
        "    y_pred = modelo.predict(X_test)\n",
        "    y_proba = modelo.predict_proba(X_test)[:,1]\n",
        "\n",
        "    acc = accuracy_score(y_test, y_pred)\n",
        "    roc_auc = roc_auc_score(y_test, y_proba)\n",
        "\n",
        "    resultados.append({\n",
        "        \"Modelo\": nombre,\n",
        "        \"Accuracy\": acc,\n",
        "        \"ROC-AUC\": roc_auc\n",
        "    })\n",
        "\n",
        "# Ordenar resultados por ROC-AUC descendente\n",
        "resultados = sorted(resultados, key=lambda x: x[\"ROC-AUC\"], reverse=True)\n",
        "\n",
        "print(f\"{'Modelo':<20} {'Accuracy':<10} {'ROC-AUC':<10}\")\n",
        "print(\"-\"*45)\n",
        "for r in resultados:\n",
        "    print(f\"{r['Modelo']:<20} {r['Accuracy']:<10.3f} {r['ROC-AUC']:<10.3f}\")\n"
      ],
      "metadata": {
        "colab": {
          "base_uri": "https://localhost:8080/"
        },
        "id": "fTd0Tx85GF23",
        "outputId": "85d1e898-934d-486e-b0fd-8294a27af9aa"
      },
      "execution_count": null,
      "outputs": [
        {
          "output_type": "stream",
          "name": "stdout",
          "text": [
            "Modelo               Accuracy   ROC-AUC   \n",
            "---------------------------------------------\n",
            "Random Forest        0.806      0.903     \n"
          ]
        }
      ]
    },
    {
      "cell_type": "markdown",
      "source": [
        "<!-- No vale la pena optimizar parámetros ya está optimizado -->"
      ],
      "metadata": {
        "id": "3WhntKv_xhZU"
      }
    },
    {
      "cell_type": "code",
      "source": [
        "from sklearn.ensemble import RandomForestClassifier\n",
        "from sklearn.model_selection import RandomizedSearchCV\n",
        "from sklearn.metrics import accuracy_score, roc_auc_score\n",
        "import numpy as np\n",
        "\n",
        "# Definir el modelo base\n",
        "rf = RandomForestClassifier(random_state=42)\n",
        "\n",
        "# Espacio de búsqueda\n",
        "param_dist = {\n",
        "    'n_estimators': [100, 200, 300, 500],\n",
        "    'max_depth': [None, 5, 10, 20, 30],\n",
        "    'min_samples_split': [2, 5, 10],\n",
        "    'min_samples_leaf': [1, 2, 4],\n",
        "    'max_features': ['sqrt', 'log2', None]\n",
        "}\n",
        "\n",
        "# RandomizedSearchCV\n",
        "random_search = RandomizedSearchCV(\n",
        "    rf,\n",
        "    param_distributions=param_dist,\n",
        "    n_iter=30,\n",
        "    scoring='roc_auc',\n",
        "    cv=5,\n",
        "    verbose=1,\n",
        "    n_jobs=-1,\n",
        "    random_state=42\n",
        ")\n",
        "\n",
        "# Entrenar\n",
        "random_search.fit(X_train, y_train)\n",
        "\n",
        "# Mejor modelo y predicción\n",
        "best_rf = random_search.best_estimator_\n",
        "y_pred = best_rf.predict(X_test)\n",
        "y_proba = best_rf.predict_proba(X_test)[:, 1]\n",
        "\n",
        "# Evaluar\n",
        "acc = accuracy_score(y_test, y_pred)\n",
        "roc = roc_auc_score(y_test, y_proba)\n",
        "\n",
        "print(\"\\n🔧 Mejor configuración encontrada:\")\n",
        "print(random_search.best_params_)\n",
        "\n",
        "print(f\"\\n✅ Resultados del Random Forest optimizado:\")\n",
        "print(f\"Accuracy: {acc:.3f}\")\n",
        "print(f\"ROC-AUC:  {roc:.3f}\")\n"
      ],
      "metadata": {
        "id": "Ve1Z2385GV_x",
        "colab": {
          "base_uri": "https://localhost:8080/"
        },
        "outputId": "807776e7-5542-47a8-90a3-3954d9ac9483"
      },
      "execution_count": null,
      "outputs": [
        {
          "output_type": "stream",
          "name": "stdout",
          "text": [
            "Fitting 5 folds for each of 30 candidates, totalling 150 fits\n",
            "\n",
            "🔧 Mejor configuración encontrada:\n",
            "{'n_estimators': 300, 'min_samples_split': 2, 'min_samples_leaf': 1, 'max_features': 'sqrt', 'max_depth': None}\n",
            "\n",
            "✅ Resultados del Random Forest optimizado:\n",
            "Accuracy: 0.806\n",
            "ROC-AUC:  0.905\n"
          ]
        }
      ]
    }
  ]
}